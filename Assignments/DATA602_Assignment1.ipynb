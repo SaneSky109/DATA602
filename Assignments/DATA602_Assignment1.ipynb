{
 "cells": [
  {
   "cell_type": "markdown",
   "id": "a0ef2dbb",
   "metadata": {},
   "source": [
    "# DATA602: Assignment 1"
   ]
  },
  {
   "cell_type": "markdown",
   "id": "a75add18",
   "metadata": {},
   "source": [
    "Eric Lehmphul"
   ]
  },
  {
   "cell_type": "markdown",
   "id": "5c0dbfd1",
   "metadata": {},
   "source": [
    "## Question 1"
   ]
  },
  {
   "cell_type": "code",
   "execution_count": 10,
   "id": "0e63569d",
   "metadata": {},
   "outputs": [
    {
     "name": "stdout",
     "output_type": "stream",
     "text": [
      "Enter the score for test 1: 95\n",
      "Enter the score for test 2: 97.5\n",
      "Enter the score for test 3: 100\n",
      "The average score is  97.5\n",
      "Congratulations!\n",
      "That is a great average!\n"
     ]
    }
   ],
   "source": [
    "#Q1 Fix all the syntax and logical errors in the given source code \n",
    "#add comments to explain your reasoning\n",
    "\n",
    "# This program gets three test scores and displays their average.  It congratulates the user if the \n",
    "# average is a high score. The high score variable holds the value that is considered a high score.\n",
    "\n",
    "high_score = 95\n",
    "\n",
    "# Get the test scores.\n",
    "test1 = float(input('Enter the score for test 1: '))\n",
    "test2 = float(input('Enter the score for test 2: '))\n",
    "test3 = float(input('Enter the score for test 3: '))\n",
    "\n",
    "# Calculate the average test score.\n",
    "average = (test1 + test2 + test3) / 3\n",
    "# Print the average.\n",
    "print('The average score is ', average)\n",
    "# If the average is a high score,\n",
    "# congratulate the user.\n",
    "if average >= high_score:\n",
    "    print('Congratulations!')\n",
    "    print('That is a great average!')"
   ]
  },
  {
   "cell_type": "markdown",
   "id": "0240c950",
   "metadata": {},
   "source": [
    "## Question 2"
   ]
  },
  {
   "cell_type": "code",
   "execution_count": 5,
   "id": "cea3a723",
   "metadata": {},
   "outputs": [
    {
     "name": "stdout",
     "output_type": "stream",
     "text": [
      "Please enter the length of rectangle 1: 5\n",
      "Please enter the width of rectangle 1: 1\n",
      "Please enter the length of rectangle 2: 6\n",
      "Please enter the width of rectangle 2: 2\n",
      "The area of rectangle 1 is  5.0\n",
      "The area of rectangle 2 is  12.0\n"
     ]
    }
   ],
   "source": [
    "#Q2\n",
    "#The area of a rectangle is the rectangle’s length times its width. Write a program that asks for the length and width of two rectangles and prints to the user the area of both rectangles. \n",
    "\n",
    "# Get user input\n",
    "length1 = float(input('Please enter the length of rectangle 1: '))\n",
    "width1 = float(input('Please enter the width of rectangle 1: '))\n",
    "length2 = float(input('Please enter the length of rectangle 2: '))\n",
    "width2 = float(input('Please enter the width of rectangle 2: '))\n",
    "\n",
    "# Find area\n",
    "area1 = length1 * width1\n",
    "area2 = length2 * width2\n",
    "\n",
    "# Print area to user\n",
    "print(\"The area of rectangle 1 is \", area1)\n",
    "print(\"The area of rectangle 2 is \", area2)"
   ]
  },
  {
   "cell_type": "markdown",
   "id": "307bde20",
   "metadata": {},
   "source": [
    "## Question 3"
   ]
  },
  {
   "cell_type": "code",
   "execution_count": 8,
   "id": "e7521445",
   "metadata": {},
   "outputs": [
    {
     "name": "stdout",
     "output_type": "stream",
     "text": [
      "Please enter your first name: Eric\n",
      "Please enter your age: 21\n",
      "Happy birthday, Eric! You are 21 years old today!\n"
     ]
    }
   ],
   "source": [
    "#Q3 \n",
    "#Ask a user to enter their first name and their age and assign it to the variables name and age. \n",
    "#The variable name should be a string and the variable age should be an int.  \n",
    "\n",
    "#Using the variables name and age, print a message to the user stating something along the lines of:\n",
    "# \"Happy birthday, name!  You are age years old today!\"\n",
    "\n",
    "# Get user input\n",
    "name = input('Please enter your first name: ') # input is a string data type by default\n",
    "age = int(input('Please enter your age: '))\n",
    "\n",
    "# Print message\n",
    "print(\"Happy birthday, \" + name + \"! You are \" + str(age) + \" years old today!\")"
   ]
  }
 ],
 "metadata": {
  "kernelspec": {
   "display_name": "Python 3 (ipykernel)",
   "language": "python",
   "name": "python3"
  },
  "language_info": {
   "codemirror_mode": {
    "name": "ipython",
    "version": 3
   },
   "file_extension": ".py",
   "mimetype": "text/x-python",
   "name": "python",
   "nbconvert_exporter": "python",
   "pygments_lexer": "ipython3",
   "version": "3.9.7"
  }
 },
 "nbformat": 4,
 "nbformat_minor": 5
}
