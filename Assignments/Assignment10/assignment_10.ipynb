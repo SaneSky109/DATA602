{
 "cells": [
  {
   "cell_type": "markdown",
   "metadata": {
    "id": "xqXbEBZtB8-u"
   },
   "source": [
    "# **Assignment 10**\n",
    "\n",
    "## Eric Lehmphul"
   ]
  },
  {
   "cell_type": "code",
   "execution_count": 82,
   "metadata": {
    "id": "Iqswq2_ak3e-"
   },
   "outputs": [],
   "source": [
    "# core\n",
    "import matplotlib.pyplot as plt\n",
    "import numpy as np\n",
    "import pandas as pd\n",
    "\n",
    "# ml\n",
    "from sklearn import datasets as ds\n",
    "from sklearn import linear_model as lm\n",
    "from sklearn.neighbors import KNeighborsClassifier as KNN\n",
    "from sklearn.model_selection import train_test_split as tts\n",
    "from sklearn.preprocessing import StandardScaler\n",
    "from sklearn import preprocessing\n",
    "#plotly or other graphing library\n",
    "\n",
    "import warnings\n",
    "warnings.filterwarnings(\"ignore\")\n",
    "\n",
    "import random\n",
    "\n",
    "random.seed(99)"
   ]
  },
  {
   "cell_type": "code",
   "execution_count": 83,
   "metadata": {
    "id": "92pRcki-k3kH"
   },
   "outputs": [],
   "source": [
    "# Load datasets here once and assign to variables iris and boston\n",
    "\n",
    "iris = ds.load_iris()\n",
    "boston = ds.load_boston()"
   ]
  },
  {
   "cell_type": "markdown",
   "metadata": {
    "id": "lA9exQg2lFEn"
   },
   "source": [
    "**Q1** \n",
    "\n",
    "**Data set: Iris**\n",
    "\n",
    "* Return the first 5 rows of the data including the feature names as column headings in a DataFrame and a\n",
    "separate Python list containing target names"
   ]
  },
  {
   "cell_type": "code",
   "execution_count": 84,
   "metadata": {
    "id": "1kcEFauAlAxY"
   },
   "outputs": [
    {
     "data": {
      "text/html": [
       "<div>\n",
       "<style scoped>\n",
       "    .dataframe tbody tr th:only-of-type {\n",
       "        vertical-align: middle;\n",
       "    }\n",
       "\n",
       "    .dataframe tbody tr th {\n",
       "        vertical-align: top;\n",
       "    }\n",
       "\n",
       "    .dataframe thead th {\n",
       "        text-align: right;\n",
       "    }\n",
       "</style>\n",
       "<table border=\"1\" class=\"dataframe\">\n",
       "  <thead>\n",
       "    <tr style=\"text-align: right;\">\n",
       "      <th></th>\n",
       "      <th>sepal length (cm)</th>\n",
       "      <th>sepal width (cm)</th>\n",
       "      <th>petal length (cm)</th>\n",
       "      <th>petal width (cm)</th>\n",
       "    </tr>\n",
       "  </thead>\n",
       "  <tbody>\n",
       "    <tr>\n",
       "      <th>0</th>\n",
       "      <td>5.1</td>\n",
       "      <td>3.5</td>\n",
       "      <td>1.4</td>\n",
       "      <td>0.2</td>\n",
       "    </tr>\n",
       "    <tr>\n",
       "      <th>1</th>\n",
       "      <td>4.9</td>\n",
       "      <td>3.0</td>\n",
       "      <td>1.4</td>\n",
       "      <td>0.2</td>\n",
       "    </tr>\n",
       "    <tr>\n",
       "      <th>2</th>\n",
       "      <td>4.7</td>\n",
       "      <td>3.2</td>\n",
       "      <td>1.3</td>\n",
       "      <td>0.2</td>\n",
       "    </tr>\n",
       "    <tr>\n",
       "      <th>3</th>\n",
       "      <td>4.6</td>\n",
       "      <td>3.1</td>\n",
       "      <td>1.5</td>\n",
       "      <td>0.2</td>\n",
       "    </tr>\n",
       "    <tr>\n",
       "      <th>4</th>\n",
       "      <td>5.0</td>\n",
       "      <td>3.6</td>\n",
       "      <td>1.4</td>\n",
       "      <td>0.2</td>\n",
       "    </tr>\n",
       "  </tbody>\n",
       "</table>\n",
       "</div>"
      ],
      "text/plain": [
       "   sepal length (cm)  sepal width (cm)  petal length (cm)  petal width (cm)\n",
       "0                5.1               3.5                1.4               0.2\n",
       "1                4.9               3.0                1.4               0.2\n",
       "2                4.7               3.2                1.3               0.2\n",
       "3                4.6               3.1                1.5               0.2\n",
       "4                5.0               3.6                1.4               0.2"
      ]
     },
     "execution_count": 84,
     "metadata": {},
     "output_type": "execute_result"
    }
   ],
   "source": [
    "# First 5 rows of iris dataset\n",
    "X = iris.data\n",
    "iris_df = pd.DataFrame(data = X, columns = iris.feature_names)\n",
    "\n",
    "iris_df.head(5)"
   ]
  },
  {
   "cell_type": "code",
   "execution_count": 85,
   "metadata": {},
   "outputs": [
    {
     "data": {
      "text/plain": [
       "array([0, 0, 0, 0, 0, 0, 0, 0, 0, 0, 0, 0, 0, 0, 0, 0, 0, 0, 0, 0, 0, 0,\n",
       "       0, 0, 0, 0, 0, 0, 0, 0, 0, 0, 0, 0, 0, 0, 0, 0, 0, 0, 0, 0, 0, 0,\n",
       "       0, 0, 0, 0, 0, 0, 1, 1, 1, 1, 1, 1, 1, 1, 1, 1, 1, 1, 1, 1, 1, 1,\n",
       "       1, 1, 1, 1, 1, 1, 1, 1, 1, 1, 1, 1, 1, 1, 1, 1, 1, 1, 1, 1, 1, 1,\n",
       "       1, 1, 1, 1, 1, 1, 1, 1, 1, 1, 1, 1, 2, 2, 2, 2, 2, 2, 2, 2, 2, 2,\n",
       "       2, 2, 2, 2, 2, 2, 2, 2, 2, 2, 2, 2, 2, 2, 2, 2, 2, 2, 2, 2, 2, 2,\n",
       "       2, 2, 2, 2, 2, 2, 2, 2, 2, 2, 2, 2, 2, 2, 2, 2, 2, 2])"
      ]
     },
     "execution_count": 85,
     "metadata": {},
     "output_type": "execute_result"
    }
   ],
   "source": [
    "# list of target for iris dataset\n",
    "Y = iris.target\n",
    "Y"
   ]
  },
  {
   "cell_type": "markdown",
   "metadata": {
    "id": "o2GEIhqzlT-i"
   },
   "source": [
    "**Q2**\n",
    "\n",
    "**Data set: Iris**\n",
    "\n",
    "* Fit the Iris dataset into a kNN model with neighbors=5 and predict the category of observations passed in \n",
    "argument new_observations. Return back the target names of each prediction (and not their encoded values,\n",
    " i.e. return setosa instead of 0)."
   ]
  },
  {
   "cell_type": "code",
   "execution_count": 86,
   "metadata": {
    "id": "wyqbRKh5lAzg"
   },
   "outputs": [],
   "source": [
    "\n",
    "\n",
    "def question2(new_observations):\n",
    "    # Scale data as KNN uses distance\n",
    "    scaler = StandardScaler()\n",
    "    scaler.fit(X)\n",
    "\n",
    "    X_Scaled = scaler.transform(X)\n",
    "\n",
    "    # Create train test split\n",
    "    X_train, X_test, Y_train, Y_test = tts(X_Scaled, Y, test_size = 0.2)\n",
    "\n",
    "    # Create KNN classifier with n = 5\n",
    "    knn = KNN(n_neighbors = 5)\n",
    "\n",
    "    # fit the Iris dataset on training data\n",
    "    knn.fit(X_train,Y_train)\n",
    "\n",
    "    # Predict the category of observations passed in argument new_observations\n",
    "\n",
    "    predictions = knn.predict(new_observations)\n",
    "\n",
    "    # Return back the target names of each prediction (and not their encoded values, i.e. return setosa instead of 0).\n",
    "\n",
    "    le = preprocessing.LabelEncoder()\n",
    "    le.fit(iris.target_names)\n",
    "    iris_predictions = list(le.inverse_transform(predictions))\n",
    "\n",
    "    return iris_predictions"
   ]
  },
  {
   "cell_type": "code",
   "execution_count": 87,
   "metadata": {},
   "outputs": [
    {
     "data": {
      "text/plain": [
       "['virginica',\n",
       " 'setosa',\n",
       " 'virginica',\n",
       " 'versicolor',\n",
       " 'versicolor',\n",
       " 'setosa',\n",
       " 'versicolor',\n",
       " 'setosa',\n",
       " 'setosa',\n",
       " 'versicolor',\n",
       " 'virginica',\n",
       " 'virginica',\n",
       " 'virginica',\n",
       " 'setosa',\n",
       " 'setosa',\n",
       " 'virginica',\n",
       " 'setosa',\n",
       " 'versicolor',\n",
       " 'versicolor',\n",
       " 'virginica',\n",
       " 'virginica',\n",
       " 'setosa',\n",
       " 'virginica',\n",
       " 'virginica',\n",
       " 'virginica',\n",
       " 'setosa',\n",
       " 'setosa',\n",
       " 'virginica',\n",
       " 'setosa',\n",
       " 'versicolor']"
      ]
     },
     "execution_count": 87,
     "metadata": {},
     "output_type": "execute_result"
    }
   ],
   "source": [
    "# Get new_observations\n",
    "scaler = StandardScaler()\n",
    "scaler.fit(X)\n",
    "X_Scaled = scaler.transform(X)\n",
    "X_train, X_test, Y_train, Y_test = tts(X_Scaled, Y, test_size = 0.2)\n",
    "\n",
    "# run function to complete question 2\n",
    "question2(X_test)"
   ]
  },
  {
   "cell_type": "markdown",
   "metadata": {
    "id": "aVMa16PflnBv"
   },
   "source": [
    "**Q3** 15 pts\n",
    "\n",
    "**Data set: Iris**\n",
    "\n",
    "* Split the Iris dataset into a train / test model with the split ratio between the two established by the function parameter split.\n",
    "\n",
    "* Fit KNN with the training data with number of neighbors equal to the function parameter neighbors\n",
    "\n",
    "* Generate and return back an accuracy score using the test data that was split out"
   ]
  },
  {
   "cell_type": "code",
   "execution_count": 88,
   "metadata": {
    "id": "5VIRae0xlA20"
   },
   "outputs": [],
   "source": [
    "def question3(num_neighbors = 3, split_size = 0.2):\n",
    "\n",
    "    # Scale data as KNN uses distance\n",
    "    scaler = StandardScaler()\n",
    "    scaler.fit(X)\n",
    "\n",
    "    X_Scaled = scaler.transform(X)\n",
    "\n",
    "    # Create train test split\n",
    "    X_train, X_test, Y_train, Y_test = tts(X_Scaled, Y, test_size = split_size)\n",
    "\n",
    "    # Create KNN classifier with n = num of neighbors\n",
    "    knn = KNN(n_neighbors = num_neighbors)\n",
    "\n",
    "    # fit the Iris dataset on training data\n",
    "    knn.fit(X_train,Y_train)\n",
    "\n",
    "    # Generate and return back an accuracy score using the test data that was split out\n",
    "    knn_score = knn.score(X_test, Y_test)\n",
    "    return knn_score"
   ]
  },
  {
   "cell_type": "code",
   "execution_count": 89,
   "metadata": {},
   "outputs": [
    {
     "data": {
      "text/plain": [
       "0.9111111111111111"
      ]
     },
     "execution_count": 89,
     "metadata": {},
     "output_type": "execute_result"
    }
   ],
   "source": [
    "# Running question 3 with num_neighbors = 4 and split size of 0.3\n",
    "question3(num_neighbors = 4, split_size = 0.3)"
   ]
  },
  {
   "cell_type": "markdown",
   "metadata": {
    "id": "GupwxBDVl8n2"
   },
   "source": [
    "**Q4**\n",
    "\n",
    "**Data set: Iris**\n",
    "\n",
    "* Generate an overfitting / underfitting curve of kNN each of the testing and training accuracy performance scores series for a range of neighbor (k) values from 1 to 30 and plot the curves (number of neighbors is x-axis, performance score is y-axis on the chart)."
   ]
  },
  {
   "cell_type": "code",
   "execution_count": 90,
   "metadata": {
    "id": "M-6Ig8_QlA6J"
   },
   "outputs": [
    {
     "data": {
      "image/png": "[encoded data removed]",
      "text/plain": [
       "<Figure size 864x576 with 1 Axes>"
      ]
     },
     "metadata": {
      "needs_background": "light"
     },
     "output_type": "display_data"
    }
   ],
   "source": [
    "# Scale data as KNN uses distance\n",
    "scaler = StandardScaler()\n",
    "scaler.fit(X)\n",
    "\n",
    "X_Scaled = scaler.transform(X)\n",
    "\n",
    "# Create train test split\n",
    "X_train, X_test, Y_train, Y_test = tts(X_Scaled, Y, test_size = 0.2)\n",
    "\n",
    "# Setup arrays to store train and test accuracies\n",
    "neighbors = np.arange(1, 30)\n",
    "train_accuracy = np.empty(len(neighbors))\n",
    "test_accuracy = np.empty(len(neighbors))\n",
    "\n",
    "# Loop over different values of k\n",
    "for i, k in enumerate(neighbors):\n",
    "    # Setup a k-NN Classifier with k neighbors: knn\n",
    "    knn = knn = KNN(n_neighbors=k)\n",
    "\n",
    "    # Fit the classifier to the training data\n",
    "    knn.fit(X_train, Y_train)\n",
    "    \n",
    "    #Compute accuracy on the training set\n",
    "    train_accuracy[i] = knn.score(X_train, Y_train)\n",
    "\n",
    "    #Compute accuracy on the testing set\n",
    "    test_accuracy[i] = knn.score(X_test, Y_test)\n",
    "\n",
    "# Generate plot\n",
    "plt.figure(figsize=(12, 8))\n",
    "plt.title('k-NN: Varying Number of Neighbors', fontsize=20)\n",
    "plt.plot(neighbors, test_accuracy, label = 'Testing Accuracy')\n",
    "plt.plot(neighbors, train_accuracy, label = 'Training Accuracy')\n",
    "plt.legend()\n",
    "plt.xlabel('Number of Neighbors', fontsize=15)\n",
    "plt.ylabel('Accuracy', fontsize=15)\n",
    "plt.show()"
   ]
  },
  {
   "cell_type": "markdown",
   "metadata": {
    "id": "NQ8WM1UJl8Iy"
   },
   "source": [
    "**Q5** 10 pts\n",
    "\n",
    "**Data set: Boston**\n",
    "\n",
    "\n",
    "* Load sklearn's Boston data into a DataFrame (only the data and feature_name as column names)\n",
    "\n",
    "* Load sklearn's Boston target values into a separate DataFrame\n",
    "\n",
    "* Return back the average of AGE, average of the target (median value of homes or MEDV), and the target as NumPy values "
   ]
  },
  {
   "cell_type": "code",
   "execution_count": 91,
   "metadata": {
    "id": "-Qi-PJvxlA8O"
   },
   "outputs": [
    {
     "name": "stdout",
     "output_type": "stream",
     "text": [
      "Average of AGE: 68.57490118577078\n",
      "Average of MEDV: 22.532806324110698\n",
      "Target Values:  [24.  21.6 34.7 33.4 36.2 28.7 22.9 27.1 16.5 18.9 15.  18.9 21.7 20.4\n",
      " 18.2 19.9 23.1 17.5 20.2 18.2 13.6 19.6 15.2 14.5 15.6 13.9 16.6 14.8\n",
      " 18.4 21.  12.7 14.5 13.2 13.1 13.5 18.9 20.  21.  24.7 30.8 34.9 26.6\n",
      " 25.3 24.7 21.2 19.3 20.  16.6 14.4 19.4 19.7 20.5 25.  23.4 18.9 35.4\n",
      " 24.7 31.6 23.3 19.6 18.7 16.  22.2 25.  33.  23.5 19.4 22.  17.4 20.9\n",
      " 24.2 21.7 22.8 23.4 24.1 21.4 20.  20.8 21.2 20.3 28.  23.9 24.8 22.9\n",
      " 23.9 26.6 22.5 22.2 23.6 28.7 22.6 22.  22.9 25.  20.6 28.4 21.4 38.7\n",
      " 43.8 33.2 27.5 26.5 18.6 19.3 20.1 19.5 19.5 20.4 19.8 19.4 21.7 22.8\n",
      " 18.8 18.7 18.5 18.3 21.2 19.2 20.4 19.3 22.  20.3 20.5 17.3 18.8 21.4\n",
      " 15.7 16.2 18.  14.3 19.2 19.6 23.  18.4 15.6 18.1 17.4 17.1 13.3 17.8\n",
      " 14.  14.4 13.4 15.6 11.8 13.8 15.6 14.6 17.8 15.4 21.5 19.6 15.3 19.4\n",
      " 17.  15.6 13.1 41.3 24.3 23.3 27.  50.  50.  50.  22.7 25.  50.  23.8\n",
      " 23.8 22.3 17.4 19.1 23.1 23.6 22.6 29.4 23.2 24.6 29.9 37.2 39.8 36.2\n",
      " 37.9 32.5 26.4 29.6 50.  32.  29.8 34.9 37.  30.5 36.4 31.1 29.1 50.\n",
      " 33.3 30.3 34.6 34.9 32.9 24.1 42.3 48.5 50.  22.6 24.4 22.5 24.4 20.\n",
      " 21.7 19.3 22.4 28.1 23.7 25.  23.3 28.7 21.5 23.  26.7 21.7 27.5 30.1\n",
      " 44.8 50.  37.6 31.6 46.7 31.5 24.3 31.7 41.7 48.3 29.  24.  25.1 31.5\n",
      " 23.7 23.3 22.  20.1 22.2 23.7 17.6 18.5 24.3 20.5 24.5 26.2 24.4 24.8\n",
      " 29.6 42.8 21.9 20.9 44.  50.  36.  30.1 33.8 43.1 48.8 31.  36.5 22.8\n",
      " 30.7 50.  43.5 20.7 21.1 25.2 24.4 35.2 32.4 32.  33.2 33.1 29.1 35.1\n",
      " 45.4 35.4 46.  50.  32.2 22.  20.1 23.2 22.3 24.8 28.5 37.3 27.9 23.9\n",
      " 21.7 28.6 27.1 20.3 22.5 29.  24.8 22.  26.4 33.1 36.1 28.4 33.4 28.2\n",
      " 22.8 20.3 16.1 22.1 19.4 21.6 23.8 16.2 17.8 19.8 23.1 21.  23.8 23.1\n",
      " 20.4 18.5 25.  24.6 23.  22.2 19.3 22.6 19.8 17.1 19.4 22.2 20.7 21.1\n",
      " 19.5 18.5 20.6 19.  18.7 32.7 16.5 23.9 31.2 17.5 17.2 23.1 24.5 26.6\n",
      " 22.9 24.1 18.6 30.1 18.2 20.6 17.8 21.7 22.7 22.6 25.  19.9 20.8 16.8\n",
      " 21.9 27.5 21.9 23.1 50.  50.  50.  50.  50.  13.8 13.8 15.  13.9 13.3\n",
      " 13.1 10.2 10.4 10.9 11.3 12.3  8.8  7.2 10.5  7.4 10.2 11.5 15.1 23.2\n",
      "  9.7 13.8 12.7 13.1 12.5  8.5  5.   6.3  5.6  7.2 12.1  8.3  8.5  5.\n",
      " 11.9 27.9 17.2 27.5 15.  17.2 17.9 16.3  7.   7.2  7.5 10.4  8.8  8.4\n",
      " 16.7 14.2 20.8 13.4 11.7  8.3 10.2 10.9 11.   9.5 14.5 14.1 16.1 14.3\n",
      " 11.7 13.4  9.6  8.7  8.4 12.8 10.5 17.1 18.4 15.4 10.8 11.8 14.9 12.6\n",
      " 14.1 13.  13.4 15.2 16.1 17.8 14.9 14.1 12.7 13.5 14.9 20.  16.4 17.7\n",
      " 19.5 20.2 21.4 19.9 19.  19.1 19.1 20.1 19.9 19.6 23.2 29.8 13.8 13.3\n",
      " 16.7 12.  14.6 21.4 23.  23.7 25.  21.8 20.6 21.2 19.1 20.6 15.2  7.\n",
      "  8.1 13.6 20.1 21.8 24.5 23.1 19.7 18.3 21.2 17.5 16.8 22.4 20.6 23.9\n",
      " 22.  11.9]\n"
     ]
    }
   ],
   "source": [
    "# Store data\n",
    "X = boston.data\n",
    "df = pd.DataFrame(X, columns = boston.feature_names)\n",
    "\n",
    "Y = boston.target\n",
    "target = pd.DataFrame(Y)\n",
    "\n",
    "# Get averages and target values\n",
    "print('Average of AGE:', df['AGE'].mean())\n",
    "print('Average of MEDV:', target[0].mean())\n",
    "print('Target Values: ', boston.target)\n",
    "\n"
   ]
  },
  {
   "cell_type": "markdown",
   "metadata": {
    "id": "-z7LddLfmNyP"
   },
   "source": [
    "**Q6** \n",
    "\n",
    "**Data set: Boston**\n",
    "\n",
    "* In the Boston dataset, the feature PTRATIO refers to pupil teacher ratio.\n",
    "\n",
    "* Using a matplotlib scatter plot, plot MEDV median value of homes as y-axis and PTRATIO as x-axis\n",
    "\n",
    "* Return back PTRATIO as a NumPy array"
   ]
  },
  {
   "cell_type": "code",
   "execution_count": 92,
   "metadata": {
    "id": "CDFVf0vxmSMo"
   },
   "outputs": [
    {
     "data": {
      "image/png": "[encoded data removed]",
      "text/plain": [
       "<Figure size 864x576 with 1 Axes>"
      ]
     },
     "metadata": {
      "needs_background": "light"
     },
     "output_type": "display_data"
    }
   ],
   "source": [
    "plt.figure(figsize=(12, 8))\n",
    "\n",
    "# create plot\n",
    "plt.scatter(df['PTRATIO'], target)\n",
    "\n",
    "plt.xlabel('Pupil Teacher Ratio')\n",
    "plt.ylabel('Median Value of Homes')\n",
    "plt.title('MEDV vs PTRATIO')\n",
    "plt.show()"
   ]
  },
  {
   "cell_type": "markdown",
   "metadata": {
    "id": "vmsmxjBcmZZ1"
   },
   "source": [
    "**Q7**\n",
    "\n",
    "**Data set: Boston**\n",
    "\n",
    "* Create a regression model for MEDV / PTRATIO and display a chart showing the regression line using matplotlib\n",
    "\n",
    "\n",
    "* Use np.linspace() to generate prediction X values from min to max PTRATIO\n",
    "\n",
    "* Return back the regression prediction space and regression predicted values\n",
    "\n",
    "* Make sure to labels axes appropriately"
   ]
  },
  {
   "cell_type": "code",
   "execution_count": 93,
   "metadata": {
    "id": "02DsBMnDmmXC"
   },
   "outputs": [
    {
     "data": {
      "image/png": "[encoded data removed]",
      "text/plain": [
       "<Figure size 864x576 with 1 Axes>"
      ]
     },
     "metadata": {
      "needs_background": "light"
     },
     "output_type": "display_data"
    }
   ],
   "source": [
    "# Create model\n",
    "linear_model = lm.LinearRegression()\n",
    "\n",
    "ind_var = df['PTRATIO'].values.reshape(-1, 1)\n",
    "dep_var = target.values.reshape(-1, 1)\n",
    "\n",
    "# fit model\n",
    "linear_model.fit(ind_var, dep_var)\n",
    "\n",
    "# make predictions\n",
    "x_range = np.linspace(min(ind_var), max(ind_var)).reshape(-1, 1)\n",
    "model_predictions = linear_model.predict(x_range)\n",
    "\n",
    "# create plot\n",
    "plt.figure(figsize=(12, 8))\n",
    "\n",
    "plt.scatter(df['PTRATIO'], target)\n",
    "plt.plot(x_range, model_predictions, color='red', linewidth=2)\n",
    "\n",
    "plt.xlabel('Pupil Teacher Ratio')\n",
    "plt.ylabel('Median Value of Homes')\n",
    "plt.title('MEDV vs PTRATIO')\n",
    "plt.show()"
   ]
  },
  {
   "cell_type": "code",
   "execution_count": null,
   "metadata": {},
   "outputs": [],
   "source": []
  }
 ],
 "metadata": {
  "colab": {
   "name": "assignment_10.ipynb",
   "provenance": []
  },
  "kernelspec": {
   "display_name": "Python 3 (ipykernel)",
   "language": "python",
   "name": "python3"
  },
  "language_info": {
   "codemirror_mode": {
    "name": "ipython",
    "version": 3
   },
   "file_extension": ".py",
   "mimetype": "text/x-python",
   "name": "python",
   "nbconvert_exporter": "python",
   "pygments_lexer": "ipython3",
   "version": "3.9.7"
  }
 },
 "nbformat": 4,
 "nbformat_minor": 1
}
