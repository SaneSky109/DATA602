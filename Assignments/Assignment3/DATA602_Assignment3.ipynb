{
 "cells": [
  {
   "cell_type": "markdown",
   "id": "d015ef56",
   "metadata": {},
   "source": [
    "# DATA602: Assignment 3"
   ]
  },
  {
   "cell_type": "markdown",
   "id": "cf363832",
   "metadata": {},
   "source": [
    "### Eric Lehmphul"
   ]
  },
  {
   "cell_type": "markdown",
   "id": "e6bcd837",
   "metadata": {},
   "source": [
    "## Question 1"
   ]
  },
  {
   "cell_type": "markdown",
   "id": "f7874498",
   "metadata": {},
   "source": [
    "**Write a program that prompts the user for a meal: breakfast, lunch, or dinner. Then using if\n",
    "statements and else statements print the user a message recommending a meal. For example,\n",
    "if the meal was breakfast, you could say something like, “How about some bacon and eggs?”\n",
    "The user may enter something else in, but you only have to respond to breakfast, lunch, or\n",
    "dinner.**"
   ]
  },
  {
   "cell_type": "code",
   "execution_count": 8,
   "id": "0a5bc531",
   "metadata": {},
   "outputs": [
    {
     "name": "stdout",
     "output_type": "stream",
     "text": [
      "What meal are you interested in having? Please enter Breakfast, Lunch, or Dinner: Breakfast\n",
      "How about some bacon and eggs for breakfast?\n"
     ]
    }
   ],
   "source": [
    "# Get User Input\n",
    "\n",
    "user_input = input(\"What meal are you interested in having? Please enter Breakfast, Lunch, or Dinner: \")\n",
    "\n",
    "# Set input to lowercase to alleviate case errors\n",
    "user_input = user_input.lower()\n",
    "\n",
    "if user_input == \"breakfast\":\n",
    "    print(\"How about some bacon and eggs for breakfast?\")\n",
    "elif user_input == \"lunch\":\n",
    "    print(\"How about a ham and cheese sandwich for lunch?\")\n",
    "elif user_input == \"dinner\":\n",
    "    print(\"How about steak and potatoes for dinner?\")\n",
    "else:\n",
    "    print(\"Please enter in a meal.\")"
   ]
  },
  {
   "cell_type": "markdown",
   "id": "d938e6ef",
   "metadata": {},
   "source": [
    "## Question 2"
   ]
  },
  {
   "cell_type": "markdown",
   "id": "675bd04a",
   "metadata": {},
   "source": [
    "**The mailroom has asked you to design a simple payroll program that calculates a student\n",
    "employee’s gross pay, including any overtime wages. If any employee works over 20 hours in a\n",
    "week, the mailroom pays them 1.5 times their regular hourly pay rate for all hours over 20.\n",
    "You should take in the user’s input for the number of hours worked, and their rate of pay.**"
   ]
  },
  {
   "cell_type": "code",
   "execution_count": 1,
   "id": "eb05369f",
   "metadata": {},
   "outputs": [
    {
     "name": "stdout",
     "output_type": "stream",
     "text": [
      "How many hours have you worked? 30\n",
      "What is your rate of pay? 10\n",
      "Employee's Gross Pay (in US Dollars):  350.0\n"
     ]
    }
   ],
   "source": [
    "# Get user input\n",
    "user_input_hours = float(input(\"How many hours have you worked? \"))\n",
    "user_input_pay = float(input(\"What is your rate of pay? \"))\n",
    "\n",
    "# create function for calculating student employee gross pay\n",
    "def employee_pay(hours, pay):\n",
    "    if hours > 20:\n",
    "        overtime = hours - 20 # Get overtime\n",
    "        base_wage = 20 * pay # Calculate base wage\n",
    "        overtime_wage = overtime * pay * 1.5 # Calculate overtime wage\n",
    "        total_pay = base_wage + overtime_wage # Calculate total pay\n",
    "    else:\n",
    "        total_pay = hours * pay # Calculate total pay\n",
    "        \n",
    "    return total_pay\n",
    "\n",
    "print(\"Employee's Gross Pay (in US Dollars): \", employee_pay(hours = user_input_hours, pay = user_input_pay))"
   ]
  },
  {
   "cell_type": "markdown",
   "id": "6b0a00be",
   "metadata": {},
   "source": [
    "## Question 3"
   ]
  },
  {
   "cell_type": "markdown",
   "id": "4aec169d",
   "metadata": {},
   "source": [
    "**Write a function named times_ten. The function should accept an argument and display the\n",
    "product of its argument multiplied times 10.**"
   ]
  },
  {
   "cell_type": "code",
   "execution_count": 3,
   "id": "e94907b6",
   "metadata": {},
   "outputs": [
    {
     "name": "stdout",
     "output_type": "stream",
     "text": [
      "10\n",
      "100\n",
      "150\n"
     ]
    }
   ],
   "source": [
    "# Define Function\n",
    "def times_ten(value = 1):\n",
    "    value_times_ten = value * 10\n",
    "    \n",
    "    return value_times_ten\n",
    "\n",
    "print(times_ten()) # base argument\n",
    "print(times_ten(10)) # argument = 5\n",
    "print(times_ten(value = 15)) # argument = 15\n",
    "    "
   ]
  },
  {
   "cell_type": "markdown",
   "id": "883cd286",
   "metadata": {},
   "source": [
    "## Question 4"
   ]
  },
  {
   "cell_type": "markdown",
   "id": "8112e94b",
   "metadata": {},
   "source": [
    "**Find the errors, debug the program, and then execute to show the output.**"
   ]
  },
  {
   "cell_type": "code",
   "execution_count": 26,
   "id": "b8d6a792",
   "metadata": {},
   "outputs": [
    {
     "name": "stdout",
     "output_type": "stream",
     "text": [
      "How many calories are in the first food? 500.25\n",
      "How many calories are in the first food? 350.77\n",
      "The total calories you ate today: 851.02\n"
     ]
    }
   ],
   "source": [
    "def main(): # Need :\n",
    "    calories1 = float(input( \"How many calories are in the first food? \")) # Changed to lower case and made input float\n",
    "    calories2 = float(input( \"How many calories are in the first food? \")) # Changed to lower case and made input float\n",
    "    showCalories(calories1, calories2)\n",
    "    \n",
    "def showCalories(calories1, calories2): # Need : and arguments\n",
    "    total = calories1 + calories2 # calculate total\n",
    "    print(\"The total calories you ate today: {:.2f}\" .format(total)) # Print total calories\n",
    "    \n",
    "# Need to call main function to run\n",
    "if __name__ == \"__main__\":\n",
    "    main() "
   ]
  },
  {
   "cell_type": "markdown",
   "id": "aee4ef80",
   "metadata": {},
   "source": [
    "## Question 5"
   ]
  },
  {
   "cell_type": "markdown",
   "id": "3fe87eb6",
   "metadata": {},
   "source": [
    "**Write a program that uses any loop (while or for) that calculates the total of the\n",
    "following series of numbers:\n",
    "1/30 + 2/29 + 3/28 .............29/30 + 30/1**"
   ]
  },
  {
   "cell_type": "markdown",
   "id": "90311422",
   "metadata": {},
   "source": [
    "#### While Loop Solution"
   ]
  },
  {
   "cell_type": "code",
   "execution_count": 58,
   "id": "df127c92",
   "metadata": {},
   "outputs": [
    {
     "name": "stdout",
     "output_type": "stream",
     "text": [
      "Starting value in series:  1 / 30\n",
      "Ending value in series:  30 / 1\n",
      "The sum of the series is:  93.84460105853213\n"
     ]
    }
   ],
   "source": [
    "# While Loop\n",
    "\n",
    "# Initialize Variables\n",
    "i = 1\n",
    "j = 30\n",
    "total = 0\n",
    "\n",
    "# Starting Series Value\n",
    "print(\"Starting value in series: \", i, \"/\", j)\n",
    "\n",
    "while i < 31:\n",
    "    value = i/j # Get value of series\n",
    "    total = total + value # add to total\n",
    "    \n",
    "    # Break loop when i = 30\n",
    "    if i == 30:\n",
    "        break\n",
    "        \n",
    "    i = i + 1 # increment i\n",
    "    j = j - 1 # increment j\n",
    " \n",
    "# Ending Series Value\n",
    "print(\"Ending value in series: \", i, \"/\", j)\n",
    "\n",
    "# Sum of Series\n",
    "print(\"The sum of the series is: \", total)"
   ]
  },
  {
   "cell_type": "markdown",
   "id": "41ec22ec",
   "metadata": {},
   "source": [
    "#### For Loop Solution"
   ]
  },
  {
   "cell_type": "code",
   "execution_count": 54,
   "id": "0b0ce708",
   "metadata": {},
   "outputs": [
    {
     "name": "stdout",
     "output_type": "stream",
     "text": [
      "Starting value in series:  1 / 30\n",
      "Ending value in series:  30 / 1\n",
      "The sum of the series is:  93.84460105853213\n"
     ]
    }
   ],
   "source": [
    "# For Loop\n",
    "\n",
    "# Initialize variables\n",
    "i = 1\n",
    "j = 30\n",
    "total = 0\n",
    "\n",
    "# Starting Series Value\n",
    "print(\"Starting value in series: \", i, \"/\", j)\n",
    "\n",
    "for i in range(1,31):\n",
    "    value = i/j # Get value\n",
    "    total = total + value # Add to total\n",
    "\n",
    "    # Break loop when i = 30\n",
    "    if i == 30:\n",
    "        break\n",
    "        \n",
    "    j = j - 1 # increment j\n",
    "    \n",
    " \n",
    "# Ending Series Value\n",
    "print(\"Ending value in series: \", i, \"/\", j)\n",
    "\n",
    "# Sum of Series\n",
    "print(\"The sum of the series is: \", total)"
   ]
  },
  {
   "cell_type": "markdown",
   "id": "348b0ffc",
   "metadata": {},
   "source": [
    "## Question 6"
   ]
  },
  {
   "cell_type": "markdown",
   "id": "a8de76f8",
   "metadata": {},
   "source": [
    "**Write a function that computes the area of a triangle given its base and height.\n",
    "The formula for an area of a triangle is:**\n",
    "\n",
    "**AREA = 1/2 * BASE * HEIGHT**\n",
    "\n",
    "**For example, if the base was 5 and the height was 4, the area would be 10.\n",
    "triangle_area(5, 4) # should print 10**"
   ]
  },
  {
   "cell_type": "code",
   "execution_count": 38,
   "id": "afa7a089",
   "metadata": {},
   "outputs": [
    {
     "name": "stdout",
     "output_type": "stream",
     "text": [
      "The area of a triangle with a base of 5 and a height of 4 is:  10.0\n",
      "The area of a triangle with a base of 10 and a height of 10 is:  50.0\n"
     ]
    }
   ],
   "source": [
    "def triangle_area(base, height):\n",
    "    area = 1/2 * base * height # Get area\n",
    "    \n",
    "    return area # return the value of area\n",
    "\n",
    "print(\"The area of a triangle with a base of 5 and a height of 4 is: \", triangle_area(5,4))\n",
    "print(\"The area of a triangle with a base of 10 and a height of 10 is: \", triangle_area(10,10))"
   ]
  },
  {
   "cell_type": "code",
   "execution_count": null,
   "id": "1575373f",
   "metadata": {},
   "outputs": [],
   "source": []
  }
 ],
 "metadata": {
  "kernelspec": {
   "display_name": "Python 3 (ipykernel)",
   "language": "python",
   "name": "python3"
  },
  "language_info": {
   "codemirror_mode": {
    "name": "ipython",
    "version": 3
   },
   "file_extension": ".py",
   "mimetype": "text/x-python",
   "name": "python",
   "nbconvert_exporter": "python",
   "pygments_lexer": "ipython3",
   "version": "3.9.7"
  }
 },
 "nbformat": 4,
 "nbformat_minor": 5
}
