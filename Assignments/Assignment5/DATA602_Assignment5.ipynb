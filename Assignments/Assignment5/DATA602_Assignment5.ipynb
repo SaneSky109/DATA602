{
 "cells": [
  {
   "cell_type": "markdown",
   "id": "c4744945",
   "metadata": {},
   "source": [
    "# DATA602: Assignment 5"
   ]
  },
  {
   "cell_type": "markdown",
   "id": "75aafd78",
   "metadata": {},
   "source": [
    "## Eric Lehmphul"
   ]
  },
  {
   "cell_type": "markdown",
   "id": "02bd58d8",
   "metadata": {},
   "source": [
    "The first step to completing this assignment is to import the Numpy package."
   ]
  },
  {
   "cell_type": "code",
   "execution_count": 4,
   "id": "3c303d50",
   "metadata": {},
   "outputs": [],
   "source": [
    "import numpy as np"
   ]
  },
  {
   "cell_type": "markdown",
   "id": "60c6d370",
   "metadata": {},
   "source": [
    "## Question 1"
   ]
  },
  {
   "cell_type": "markdown",
   "id": "cb633098",
   "metadata": {},
   "source": [
    "**Create a 1D array of numbers from 0 to 9 called arr.. Desired output:\n",
    "#> array([0, 1, 2, 3, 4, 5, 6, 7, 8, 9])**"
   ]
  },
  {
   "cell_type": "code",
   "execution_count": 10,
   "id": "40f6feb8",
   "metadata": {},
   "outputs": [
    {
     "name": "stdout",
     "output_type": "stream",
     "text": [
      "<class 'numpy.ndarray'>\n"
     ]
    },
    {
     "data": {
      "text/plain": [
       "array([0, 1, 2, 3, 4, 5, 6, 7, 8, 9])"
      ]
     },
     "execution_count": 10,
     "metadata": {},
     "output_type": "execute_result"
    }
   ],
   "source": [
    "# using np.array\n",
    "arr = np.array([0,1,2,3,4,5,6,7,8,9])\n",
    "\n",
    "print(type(arr))\n",
    "arr"
   ]
  },
  {
   "cell_type": "code",
   "execution_count": 48,
   "id": "636effed",
   "metadata": {},
   "outputs": [
    {
     "name": "stdout",
     "output_type": "stream",
     "text": [
      "<class 'numpy.ndarray'>\n"
     ]
    },
    {
     "data": {
      "text/plain": [
       "array([0, 1, 2, 3, 4, 5, 6, 7, 8, 9])"
      ]
     },
     "execution_count": 48,
     "metadata": {},
     "output_type": "execute_result"
    }
   ],
   "source": [
    "# using np.arange\n",
    "arr2 = np.arange(10)\n",
    "\n",
    "print(type(arr2))\n",
    "arr2"
   ]
  },
  {
   "cell_type": "markdown",
   "id": "748d3827",
   "metadata": {},
   "source": [
    "## Question 2"
   ]
  },
  {
   "cell_type": "markdown",
   "id": "2d1113ea",
   "metadata": {},
   "source": [
    "**From *arr*, extract all odd numbers.**"
   ]
  },
  {
   "cell_type": "code",
   "execution_count": 14,
   "id": "9e309670",
   "metadata": {},
   "outputs": [
    {
     "data": {
      "text/plain": [
       "array([1, 3, 5, 7, 9])"
      ]
     },
     "execution_count": 14,
     "metadata": {},
     "output_type": "execute_result"
    }
   ],
   "source": [
    "# extract function can be used to extract values that satisfy a condition\n",
    "np.extract(condition = arr%2!=0, arr = arr)"
   ]
  },
  {
   "cell_type": "markdown",
   "id": "59b05245",
   "metadata": {},
   "source": [
    "## Question 3"
   ]
  },
  {
   "cell_type": "markdown",
   "id": "efd4b6cd",
   "metadata": {},
   "source": [
    "**Replace all even numbers in *arr* with -1.** "
   ]
  },
  {
   "cell_type": "code",
   "execution_count": 17,
   "id": "548101f1",
   "metadata": {},
   "outputs": [
    {
     "data": {
      "text/plain": [
       "array([-1,  1, -1,  3, -1,  5, -1,  7, -1,  9])"
      ]
     },
     "execution_count": 17,
     "metadata": {},
     "output_type": "execute_result"
    }
   ],
   "source": [
    "# where function can be used to replace values that satisfy a condition\n",
    "np.where(arr%2==0, -1, arr)"
   ]
  },
  {
   "cell_type": "markdown",
   "id": "be422924",
   "metadata": {},
   "source": [
    "## Question 4"
   ]
  },
  {
   "cell_type": "markdown",
   "id": "400e73f6",
   "metadata": {},
   "source": [
    "**Convert the following 1D array to a 2D array with 2 rows.**\n",
    "\n",
    "\n",
    "**Input: np.arange(10)\n",
    "#> array([0, 1, 2, 3, 4, 5, 6, 7, 8, 9])**\n",
    "\n",
    "\n",
    "**Desired Output:\n",
    "array([[0, 1, 2, 3, 4],\n",
    "[5, 6, 7, 8, 9]])**"
   ]
  },
  {
   "cell_type": "code",
   "execution_count": 20,
   "id": "cf8c0078",
   "metadata": {},
   "outputs": [
    {
     "data": {
      "text/plain": [
       "array([0, 1, 2, 3, 4, 5, 6, 7, 8, 9])"
      ]
     },
     "execution_count": 20,
     "metadata": {},
     "output_type": "execute_result"
    }
   ],
   "source": [
    "# Create 1d array\n",
    "arr_1d = np.arange(10)\n",
    "arr_1d"
   ]
  },
  {
   "cell_type": "code",
   "execution_count": 22,
   "id": "e6900d81",
   "metadata": {},
   "outputs": [
    {
     "data": {
      "text/plain": [
       "array([[0, 1, 2, 3, 4],\n",
       "       [5, 6, 7, 8, 9]])"
      ]
     },
     "execution_count": 22,
     "metadata": {},
     "output_type": "execute_result"
    }
   ],
   "source": [
    "# Create 2d array with reshape function\n",
    "arr_2d = np.reshape(arr_1d, (2,5)) # 2 rows, 5 columns\n",
    "arr_2d"
   ]
  },
  {
   "cell_type": "markdown",
   "id": "3137c158",
   "metadata": {},
   "source": [
    "## Question 5"
   ]
  },
  {
   "cell_type": "markdown",
   "id": "4d883e0a",
   "metadata": {},
   "source": [
    "**Create a single dimension array, *array_1d*, of size n containing integers 0 to n-1.\n",
    "Reshape the array. The reshaped array, *array_reshaped*, should be n/3 columns\n",
    "and 3 rows.**"
   ]
  },
  {
   "cell_type": "code",
   "execution_count": 38,
   "id": "1e7ef8e3",
   "metadata": {},
   "outputs": [
    {
     "name": "stdout",
     "output_type": "stream",
     "text": [
      "array_1d: \n",
      " [0 1 2 3 4 5 6 7 8]\n",
      "\n",
      " array_reshaped: \n",
      " [[0 1 2]\n",
      " [3 4 5]\n",
      " [6 7 8]]\n"
     ]
    }
   ],
   "source": [
    "# n = 9\n",
    "n = 9\n",
    "\n",
    "# Create array_1d of size n containing 0 to n-1 values\n",
    "array_1d = np.arange(n)\n",
    "\n",
    "print(\"array_1d: \\n\", array_1d)\n",
    "\n",
    "# Reshape array_1d to 3 rows and n/3 columns\n",
    "array_reshaped = np.reshape(array_1d, (3, int((n)/3)))\n",
    "print(\"\\n array_reshaped: \\n\", array_reshaped)"
   ]
  },
  {
   "cell_type": "code",
   "execution_count": 41,
   "id": "3c5fb383",
   "metadata": {},
   "outputs": [
    {
     "name": "stdout",
     "output_type": "stream",
     "text": [
      "array_1d: \n",
      " [ 0  1  2  3  4  5  6  7  8  9 10 11 12 13 14 15 16 17 18 19 20 21 22 23\n",
      " 24 25 26 27 28 29]\n",
      "\n",
      " array_reshaped: \n",
      " [[ 0  1  2  3  4  5  6  7  8  9]\n",
      " [10 11 12 13 14 15 16 17 18 19]\n",
      " [20 21 22 23 24 25 26 27 28 29]]\n"
     ]
    }
   ],
   "source": [
    "# n = 30\n",
    "n = 30\n",
    "\n",
    "\n",
    "# Create array_1d of size n containing 0 to n-1 values\n",
    "array_1d = np.arange(n)\n",
    "\n",
    "print(\"array_1d: \\n\", array_1d)\n",
    "\n",
    "# Reshape array_1d to 3 rows and n/3 columns\n",
    "array_reshaped = np.reshape(array_1d, (3, int((n)/3)))\n",
    "print(\"\\n array_reshaped: \\n\", array_reshaped)"
   ]
  },
  {
   "cell_type": "code",
   "execution_count": 42,
   "id": "d8d7f27c",
   "metadata": {},
   "outputs": [
    {
     "name": "stdout",
     "output_type": "stream",
     "text": [
      "array_1d: \n",
      " [ 0  1  2  3  4  5  6  7  8  9 10 11 12 13 14 15 16 17 18 19 20 21 22 23\n",
      " 24 25 26 27 28 29 30 31 32 33 34 35 36 37 38 39 40 41 42 43 44 45 46 47\n",
      " 48 49 50 51 52 53 54 55 56 57 58 59 60 61 62 63 64 65 66 67 68 69 70 71\n",
      " 72 73 74 75 76 77 78 79 80 81 82 83 84 85 86]\n",
      "\n",
      " array_reshaped: \n",
      " [[ 0  1  2  3  4  5  6  7  8  9 10 11 12 13 14 15 16 17 18 19 20 21 22 23\n",
      "  24 25 26 27 28]\n",
      " [29 30 31 32 33 34 35 36 37 38 39 40 41 42 43 44 45 46 47 48 49 50 51 52\n",
      "  53 54 55 56 57]\n",
      " [58 59 60 61 62 63 64 65 66 67 68 69 70 71 72 73 74 75 76 77 78 79 80 81\n",
      "  82 83 84 85 86]]\n"
     ]
    }
   ],
   "source": [
    "# n = 87\n",
    "n = 87\n",
    "\n",
    "\n",
    "# Create array_1d of size n containing 0 to n-1 values\n",
    "array_1d = np.arange(n)\n",
    "\n",
    "print(\"array_1d: \\n\", array_1d)\n",
    "\n",
    "# Reshape array_1d to 3 rows and n/3 columns\n",
    "array_reshaped = np.reshape(array_1d, (3, int((n)/3)))\n",
    "print(\"\\n array_reshaped: \\n\", array_reshaped)"
   ]
  },
  {
   "cell_type": "markdown",
   "id": "4681dbb1",
   "metadata": {},
   "source": [
    "## Question 6"
   ]
  },
  {
   "cell_type": "markdown",
   "id": "feae58f1",
   "metadata": {},
   "source": [
    "**Create a numpy identity matrix of size n.**"
   ]
  },
  {
   "cell_type": "code",
   "execution_count": 44,
   "id": "99dcb661",
   "metadata": {},
   "outputs": [
    {
     "data": {
      "text/plain": [
       "array([[1., 0.],\n",
       "       [0., 1.]])"
      ]
     },
     "execution_count": 44,
     "metadata": {},
     "output_type": "execute_result"
    }
   ],
   "source": [
    "# n = 2\n",
    "n = 2\n",
    "np.identity(n)"
   ]
  },
  {
   "cell_type": "code",
   "execution_count": 45,
   "id": "fb213ac6",
   "metadata": {},
   "outputs": [
    {
     "data": {
      "text/plain": [
       "array([[1., 0., 0., 0., 0.],\n",
       "       [0., 1., 0., 0., 0.],\n",
       "       [0., 0., 1., 0., 0.],\n",
       "       [0., 0., 0., 1., 0.],\n",
       "       [0., 0., 0., 0., 1.]])"
      ]
     },
     "execution_count": 45,
     "metadata": {},
     "output_type": "execute_result"
    }
   ],
   "source": [
    "# n = 5\n",
    "n = 5\n",
    "np.identity(n)"
   ]
  },
  {
   "cell_type": "markdown",
   "id": "7de39e88",
   "metadata": {},
   "source": [
    "## Question 7"
   ]
  },
  {
   "cell_type": "markdown",
   "id": "6dabcdb8",
   "metadata": {},
   "source": [
    "**Create an array filled with zeroes of size n x n (n rows, n columns).**"
   ]
  },
  {
   "cell_type": "code",
   "execution_count": 46,
   "id": "be9dd02c",
   "metadata": {},
   "outputs": [
    {
     "data": {
      "text/plain": [
       "array([[0., 0.],\n",
       "       [0., 0.]])"
      ]
     },
     "execution_count": 46,
     "metadata": {},
     "output_type": "execute_result"
    }
   ],
   "source": [
    "# n = 2\n",
    "n = 2\n",
    "np.zeros((n,n))"
   ]
  },
  {
   "cell_type": "code",
   "execution_count": 47,
   "id": "d343c77d",
   "metadata": {},
   "outputs": [
    {
     "data": {
      "text/plain": [
       "array([[0., 0., 0., 0., 0.],\n",
       "       [0., 0., 0., 0., 0.],\n",
       "       [0., 0., 0., 0., 0.],\n",
       "       [0., 0., 0., 0., 0.],\n",
       "       [0., 0., 0., 0., 0.]])"
      ]
     },
     "execution_count": 47,
     "metadata": {},
     "output_type": "execute_result"
    }
   ],
   "source": [
    "# n = 5\n",
    "n = 5\n",
    "np.zeros((n,n))"
   ]
  },
  {
   "cell_type": "code",
   "execution_count": null,
   "id": "a4254c96",
   "metadata": {},
   "outputs": [],
   "source": []
  }
 ],
 "metadata": {
  "kernelspec": {
   "display_name": "Python 3 (ipykernel)",
   "language": "python",
   "name": "python3"
  },
  "language_info": {
   "codemirror_mode": {
    "name": "ipython",
    "version": 3
   },
   "file_extension": ".py",
   "mimetype": "text/x-python",
   "name": "python",
   "nbconvert_exporter": "python",
   "pygments_lexer": "ipython3",
   "version": "3.9.7"
  }
 },
 "nbformat": 4,
 "nbformat_minor": 5
}
